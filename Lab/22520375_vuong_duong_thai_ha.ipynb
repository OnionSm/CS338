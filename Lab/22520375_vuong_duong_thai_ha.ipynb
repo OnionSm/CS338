{
 "cells": [
  {
   "cell_type": "markdown",
   "metadata": {},
   "source": [
    "### MSSV: 22520375\n",
    "### HỌ VÀ TÊN: VƯƠNG DƯƠNG THÁI HÀ\n",
    "### LỚP: Nhận dạng - CS338.P23"
   ]
  },
  {
   "cell_type": "markdown",
   "metadata": {},
   "source": [
    "# IMPORT LIBRARY"
   ]
  },
  {
   "cell_type": "code",
   "execution_count": 5,
   "metadata": {},
   "outputs": [],
   "source": [
    "import random\n",
    "import math"
   ]
  },
  {
   "cell_type": "markdown",
   "metadata": {},
   "source": [
    "# DEFINE KMEANS"
   ]
  },
  {
   "cell_type": "code",
   "execution_count": 6,
   "metadata": {},
   "outputs": [],
   "source": [
    "class KMeans:\n",
    "    def __init__(self, k=3, max_iterations=100):\n",
    "        self.k = k\n",
    "        self.max_iterations = max_iterations\n",
    "        self.centroids = []\n",
    "        self.clusters = [[] for _ in range(k)]\n",
    "    \n",
    "    def generate_random_points(self, n, min_val=0, max_val=100):\n",
    "        return [(random.uniform(min_val, max_val), \n",
    "                random.uniform(min_val, max_val)) for _ in range(n)]\n",
    "    \n",
    "    def euclidean_distance(self, point1, point2):\n",
    "        return math.sqrt((point1[0] - point2[0])**2 + (point1[1] - point2[1])**2)\n",
    "    \n",
    "    def initialize_centroids(self, points):\n",
    "        return random.sample(points, self.k)\n",
    "    \n",
    "    def assign_points_to_clusters(self, points):\n",
    "        clusters = [[] for _ in range(self.k)]\n",
    "        \n",
    "        for point in points:\n",
    "            distances = [self.euclidean_distance(point, centroid) for centroid in self.centroids]\n",
    "            closest_cluster = distances.index(min(distances))\n",
    "            clusters[closest_cluster].append(point)\n",
    "            \n",
    "        return clusters\n",
    "    \n",
    "    def update_centroids(self, clusters):\n",
    "        new_centroids = []\n",
    "        for cluster in clusters:\n",
    "            if not cluster:\n",
    "                new_centroids.append(self.centroids[clusters.index(cluster)])\n",
    "                continue\n",
    "            avg_x = sum(point[0] for point in cluster) / len(cluster)\n",
    "            avg_y = sum(point[1] for point in cluster) / len(cluster)\n",
    "            new_centroids.append((avg_x, avg_y))\n",
    "            \n",
    "        return new_centroids\n",
    "    \n",
    "    def has_converged(self, old_centroids, new_centroids):\n",
    "        return all(self.euclidean_distance(old, new) < 0.001 \n",
    "                   for old, new in zip(old_centroids, new_centroids))\n",
    "    \n",
    "    def fit(self, points):\n",
    "        self.centroids = self.initialize_centroids(points)\n",
    "        \n",
    "        for _ in range(self.max_iterations):\n",
    "      \n",
    "            self.clusters = self.assign_points_to_clusters(points)\n",
    "         \n",
    "            old_centroids = self.centroids.copy()\n",
    "            self.centroids = self.update_centroids(self.clusters)\n",
    "            if self.has_converged(old_centroids, self.centroids):\n",
    "                break\n",
    "    \n",
    "    def print_results(self):\n",
    "        print(\"Kết quả phân cụm:\")\n",
    "        for i, cluster in enumerate(self.clusters):\n",
    "            print(f\"\\nCluster {i + 1} (Centroid: {self.centroids[i]}):\")\n",
    "            for point in cluster:\n",
    "                print(f\"  Điểm: {point}\")\n",
    "        \n",
    "        print(\"\\nTọa độ cuối cùng của các tâm cụm:\")\n",
    "        for i, centroid in enumerate(self.centroids):\n",
    "            print(f\"  Centroid {i + 1}: {centroid}\")"
   ]
  },
  {
   "cell_type": "code",
   "execution_count": 7,
   "metadata": {},
   "outputs": [
    {
     "name": "stdout",
     "output_type": "stream",
     "text": [
      "Kết quả phân cụm:\n",
      "\n",
      "Cluster 1 (Centroid: (59.37668816815535, 72.44342973942688)):\n",
      "  Điểm: (69.24870724779856, 95.46826651330873)\n",
      "  Điểm: (55.526728034585204, 73.33780044167885)\n",
      "  Điểm: (32.54659944298811, 87.51830811586663)\n",
      "  Điểm: (55.5504219854058, 51.57136190128932)\n",
      "  Điểm: (70.5462946097832, 77.36958662506333)\n",
      "  Điểm: (36.19649661718418, 76.83644700871712)\n",
      "  Điểm: (38.41133648531836, 80.18684724956793)\n",
      "  Điểm: (89.24461633974985, 85.70100511864143)\n",
      "  Điểm: (59.32943096834731, 83.5121212950673)\n",
      "  Điểm: (75.09571785891357, 63.35179524905128)\n",
      "  Điểm: (44.941243900609095, 58.63037620602255)\n",
      "  Điểm: (51.70455911557238, 46.541163326532555)\n",
      "  Điểm: (49.7953648248698, 51.708186433233195)\n",
      "  Điểm: (52.93598387874097, 50.12713936270532)\n",
      "  Điểm: (69.43254342071522, 61.07267776105824)\n",
      "  Điểm: (64.09264707875528, 90.65513811960373)\n",
      "  Điểm: (94.80500704930407, 97.95008484284926)\n",
      "\n",
      "Cluster 2 (Centroid: (75.46271288037634, 22.258452956773134)):\n",
      "  Điểm: (95.07077549302359, 13.699166229591587)\n",
      "  Điểm: (86.36680862623611, 35.61114821259231)\n",
      "  Điểm: (63.023464164520234, 10.03510802706381)\n",
      "  Điểm: (86.26061233416618, 28.63034728014857)\n",
      "  Điểm: (92.56716755426295, 4.921301485808305)\n",
      "  Điểm: (66.04704894247074, 15.931410993943128)\n",
      "  Điểm: (90.85360935852681, 24.938702901387444)\n",
      "  Điểm: (42.461702596023954, 7.268628732762517)\n",
      "  Điểm: (80.39434250595295, 46.811493033272576)\n",
      "  Điểm: (62.95185361280878, 32.97913072678633)\n",
      "  Điểm: (79.61660162638996, 2.648502588894275)\n",
      "  Điểm: (82.28702339718387, 37.0763927776536)\n",
      "  Điểm: (53.11425723332622, 28.80855544814631)\n",
      "\n",
      "Cluster 3 (Centroid: (17.449701145861134, 48.18974488167356)):\n",
      "  Điểm: (17.008971096475058, 53.02956057288649)\n",
      "  Điểm: (28.09460721090765, 40.95987371419826)\n",
      "  Điểm: (26.459494040740484, 50.65271290016094)\n",
      "  Điểm: (34.65598492256072, 38.927596757832205)\n",
      "  Điểm: (5.6323827603733445, 4.70158801050612)\n",
      "  Điểm: (24.185324641031613, 19.18729398206014)\n",
      "  Điểm: (20.392511243650247, 55.962034022909975)\n",
      "  Điểm: (19.79774989152161, 35.19871779817316)\n",
      "  Điểm: (9.27243956159225, 50.022314129543076)\n",
      "  Điểm: (18.226423593930274, 45.10277278510523)\n",
      "  Điểm: (37.99183065359598, 50.82416079425458)\n",
      "  Điểm: (13.918638675632122, 66.4718085448866)\n",
      "  Điểm: (14.62955070951516, 62.63491853379163)\n",
      "  Điểm: (2.0136094132205407, 69.19216586480317)\n",
      "  Điểm: (29.167451824152124, 68.15441080515585)\n",
      "  Điểm: (12.186618148804317, 85.19625328558809)\n",
      "  Điểm: (19.727058788459285, 6.899000862569427)\n",
      "  Điểm: (1.529107994609169, 21.005253445562733)\n",
      "  Điểm: (1.2669226424792068, 51.51358408759983)\n",
      "  Điểm: (12.837345103971487, 88.15887673588377)\n",
      "\n",
      "Tọa độ cuối cùng của các tâm cụm:\n",
      "  Centroid 1: (59.37668816815535, 72.44342973942688)\n",
      "  Centroid 2: (75.46271288037634, 22.258452956773134)\n",
      "  Centroid 3: (17.449701145861134, 48.18974488167356)\n"
     ]
    }
   ],
   "source": [
    "kmeans = KMeans(k=3)\n",
    "data_points = kmeans.generate_random_points(50) \n",
    "kmeans.fit(data_points)\n",
    "kmeans.print_results()"
   ]
  }
 ],
 "metadata": {
  "kernelspec": {
   "display_name": "base",
   "language": "python",
   "name": "python3"
  },
  "language_info": {
   "codemirror_mode": {
    "name": "ipython",
    "version": 3
   },
   "file_extension": ".py",
   "mimetype": "text/x-python",
   "name": "python",
   "nbconvert_exporter": "python",
   "pygments_lexer": "ipython3",
   "version": "3.12.2"
  }
 },
 "nbformat": 4,
 "nbformat_minor": 2
}
